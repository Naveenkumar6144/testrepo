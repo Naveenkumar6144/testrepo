{
 "cells": [
  {
   "cell_type": "markdown",
   "id": "6c615fa9-fd36-4336-97cc-ee62fbe3b4e2",
   "metadata": {},
   "source": [
    "<h1>Header 1, Data Science Tools and Ecosystem<h1>"
   ]
  },
  {
   "cell_type": "markdown",
   "id": "bcec4aa3-3b1b-4568-9f5f-ee94d2dd305f",
   "metadata": {},
   "source": [
    "In this notebook, Data Science Tools and Ecosystem are summarized."
   ]
  },
  {
   "cell_type": "markdown",
   "id": "0441e690-f598-4b86-8771-10e10cd9e34e",
   "metadata": {},
   "source": [
    "<b>Objectives:<b>\n",
    "- Jupyter Notebook\n",
    "- Multi-language Support\n",
    "- Interactive Data Science\n",
    "- Community and Open Source\n",
    "- Integration with Cloud Services\n",
    " <br> <b> List popular languages for Data Science <b>\n",
    "- Python\n",
    "- R\n",
    "- SQL\n",
    "- Java\n",
    "- Julia\n",
    "- Scala"
   ]
  },
  {
   "cell_type": "markdown",
   "id": "a7f88e10-58be-4f81-940b-be011d91aae5",
   "metadata": {},
   "source": [
    "Some of the commonly used libraries used by Data Scientists include:\n",
    "1. NumPy\n",
    "2. Pandas\n",
    "3. Matplotlib"
   ]
  },
  {
   "cell_type": "markdown",
   "id": "e2429d44-d818-41db-9a2c-e32e08deef4f",
   "metadata": {},
   "source": [
    "| Datasciencetools |\n",
    "| :--------------: | \n",
    "| Jupyter Notebook |\n",
    "| RStudio |\n",
    "| Apache Spark |\n",
    "\n"
   ]
  },
  {
   "cell_type": "code",
   "execution_count": 3,
   "id": "3b928492-f5eb-4431-a1b7-6cec7efc0c19",
   "metadata": {},
   "outputs": [
    {
     "ename": "SyntaxError",
     "evalue": "invalid syntax (3127642435.py, line 1)",
     "output_type": "error",
     "traceback": [
      "\u001b[0;36m  Cell \u001b[0;32mIn[3], line 1\u001b[0;36m\u001b[0m\n\u001b[0;31m    <h3> elow are a few examples of evaluating arithmetic expressions in Python <h3>\u001b[0m\n\u001b[0m    ^\u001b[0m\n\u001b[0;31mSyntaxError\u001b[0m\u001b[0;31m:\u001b[0m invalid syntax\n"
     ]
    }
   ],
   "source": [
    "<h3> Below are a few examples of evaluating arithmetic expressions in Python <h3>\n",
    "The sum of 2 and 3 is $2 + 3 = 5$.\n"
   ]
  },
  {
   "cell_type": "markdown",
   "id": "b9b3eb44-dbb9-4dbd-99b8-3a288393a324",
   "metadata": {},
   "source": [
    "<h3> Below are a few examples of evaluating arithmetic expressions in Python <h3>\n",
    "The sum of 2 and 3 is $2 + 3 = 5$."
   ]
  },
  {
   "cell_type": "code",
   "execution_count": 4,
   "id": "05a70055-750e-4179-b4dd-c119e0ad135d",
   "metadata": {},
   "outputs": [
    {
     "ename": "NameError",
     "evalue": "name 'This' is not defined",
     "output_type": "error",
     "traceback": [
      "\u001b[0;31m---------------------------------------------------------------------------\u001b[0m",
      "\u001b[0;31mNameError\u001b[0m                                 Traceback (most recent call last)",
      "Cell \u001b[0;32mIn[4], line 1\u001b[0m\n\u001b[0;32m----> 1\u001b[0m \u001b[43mThis\u001b[49m(a, simple, arithmetic, expression, to, multiply, then, add, integers)\n\u001b[1;32m      2\u001b[0m (\u001b[38;5;241m3\u001b[39m\u001b[38;5;241m*\u001b[39m\u001b[38;5;241m4\u001b[39m)\u001b[38;5;241m+\u001b[39m\u001b[38;5;241m5\u001b[39m\n",
      "\u001b[0;31mNameError\u001b[0m: name 'This' is not defined"
     ]
    }
   ],
   "source": [
    "/This a simple arithmetic expression to multiply then add integers\n",
    "(3*4)+5"
   ]
  },
  {
   "cell_type": "code",
   "execution_count": 5,
   "id": "d6cfafcb-aa50-4e13-b9bd-5c4cc0eb02e7",
   "metadata": {},
   "outputs": [
    {
     "data": {
      "text/plain": [
       "17"
      ]
     },
     "execution_count": 5,
     "metadata": {},
     "output_type": "execute_result"
    }
   ],
   "source": [
    "# /This a simple arithmetic expression to multiply then add integers\n",
    "(3*4)+5\n"
   ]
  },
  {
   "cell_type": "code",
   "execution_count": 6,
   "id": "393f8cf2-a7a5-49db-bbd1-ac608786d0de",
   "metadata": {},
   "outputs": [],
   "source": [
    "# This will convert 200 minutes to hours by diving by 60\n",
    "\n",
    "hours, minutes = divmod(200, 60)"
   ]
  },
  {
   "cell_type": "code",
   "execution_count": 19,
   "id": "6639afe6-75a9-4020-8979-0c95b39d45c6",
   "metadata": {},
   "outputs": [
    {
     "name": "stdout",
     "output_type": "stream",
     "text": [
      "seconds value in hours: 3\n"
     ]
    }
   ],
   "source": [
    "# This will convert 200 minutes to hours by diving by 60\n",
    "hours= 200//60\n",
    "print(\"seconds value in hours:\",hours)"
   ]
  },
  {
   "cell_type": "markdown",
   "id": "d87c829d-5971-40ee-a26c-2128d1fc9e16",
   "metadata": {},
   "source": [
    "<h2> Author: <h2>\n",
    "Naveen Kumar R"
   ]
  },
  {
   "cell_type": "markdown",
   "id": "bec67287-0591-4b87-8300-8209126e0956",
   "metadata": {},
   "source": []
  }
 ],
 "metadata": {
  "kernelspec": {
   "display_name": "Python 3 (ipykernel)",
   "language": "python",
   "name": "python3"
  },
  "language_info": {
   "codemirror_mode": {
    "name": "ipython",
    "version": 3
   },
   "file_extension": ".py",
   "mimetype": "text/x-python",
   "name": "python",
   "nbconvert_exporter": "python",
   "pygments_lexer": "ipython3",
   "version": "3.11.9"
  }
 },
 "nbformat": 4,
 "nbformat_minor": 5
}
